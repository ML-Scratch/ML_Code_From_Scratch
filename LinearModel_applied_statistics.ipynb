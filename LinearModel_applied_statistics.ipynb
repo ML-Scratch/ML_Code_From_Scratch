{
 "cells": [
  {
   "cell_type": "code",
   "execution_count": 4,
   "metadata": {},
   "outputs": [
    {
     "name": "stdout",
     "output_type": "stream",
     "text": [
      "The coefficients of the line which is intercept and the slope are -0.35714285714285765,1.1071428571428572 respectively\n",
      "The observed values are [1, 3, 3, 2, 5, 7, 7, 9]\n",
      "The predicted values are [1.8571428571428568, 1.8571428571428568, 4.071428571428571, 2.964285714285714, 5.178571428571429, 7.392857142857142, 7.392857142857142, 8.5]\n",
      "RMSE: 0.7672339663907439\n"
     ]
    }
   ],
   "source": [
    "def error(observed, predicted):\n",
    "    \"\"\"\n",
    "    Return the Root Mean Square error\n",
    "    \"\"\"\n",
    "    error_sum = 0.0\n",
    "    for i in range(len(observed)):\n",
    "        error_sum +=(observed[i] - predicted[i]) ** 2\n",
    "    return (error_sum / float(len(observed))) ** (1/2)\n",
    " \n",
    "def evaluating_algorithm(train,test,algorithm):\n",
    "    \"\"\"\n",
    "    Evaluating the model on given train and test data\n",
    "    \"\"\"\n",
    "    predicted = algorithm(train, test)\n",
    "    observed = [row[-1] for row in train]\n",
    "    print(\"The observed values are {}\".format(observed))\n",
    "    print(\"The predicted values are {}\".format(predicted))\n",
    "    rmse = error(observed, predicted)\n",
    "    return rmse\n",
    " \n",
    "def mean(values):\n",
    "    \"\"\"\n",
    "    Returns the mean\n",
    "    \"\"\"\n",
    "    return sum(values) / float(len(values))\n",
    " \n",
    "def covariance(x, mean_x, y, mean_y):\n",
    "    \"\"\"\n",
    "    Return the covariance result between x-values-->predictor variable and y-values-->criterion variable\n",
    "    \"\"\"\n",
    "    covar = 0.0\n",
    "    for i in range(len(x)):\n",
    "        covar += (x[i] - mean_x) * (y[i] - mean_y)\n",
    "    return covar\n",
    " \n",
    "def variance(values, mean):\n",
    "    \"\"\"\n",
    "    Return the variance on x-values-->prefictor variable\n",
    "    \"\"\"\n",
    "    return sum([(x-mean)**2 for x in values])\n",
    " \n",
    "def coeff(data):\n",
    "    \"\"\"\n",
    "    Return best fit m-slope-->regression coefficient and intercept-->regression constant\n",
    "    \"\"\"\n",
    "    x = [row[0] for row in train]\n",
    "    y = [row[1] for row in train]\n",
    "    x_mean, y_mean = mean(x), mean(y)\n",
    "    m = covariance(x, x_mean, y, y_mean) / variance(x, x_mean)\n",
    "    b = y_mean - m * x_mean\n",
    "    print(\"The coefficients of the line which is intercept and the slope are {0},{1} respectively\".format(b,m))\n",
    "    return [b, m]\n",
    " \n",
    "def linear_regression(train, test):\n",
    "    \"\"\"\n",
    "    Return predicted from calculated a\n",
    "    \"\"\"\n",
    "    predictions = []\n",
    "    b, m = coeff(train)\n",
    "    for row in test:\n",
    "        ycap = b + m * row\n",
    "        predictions.append(ycap)\n",
    "    return predictions\n",
    " \n",
    "train = [[1, 1], [2, 3], [4, 3], [3, 2], [5, 5], [6, 7], [7, 7], [8, 9]]\n",
    "test = [2,2,4,3,5,7,7,8]\n",
    "err = evaluating_algorithm(train,test,linear_regression)\n",
    "print('RMSE: {}'.format(err))"
   ]
  },
  {
   "cell_type": "code",
   "execution_count": 5,
   "metadata": {},
   "outputs": [
    {
     "name": "stdout",
     "output_type": "stream",
     "text": [
      "The coefficients of the line which is intercept and the slope are -0.35714285714285765,1.1071428571428572 respectively\n"
     ]
    }
   ],
   "source": [
    "predicted = linear_regression(train, test)"
   ]
  },
  {
   "cell_type": "code",
   "execution_count": 6,
   "metadata": {},
   "outputs": [
    {
     "data": {
      "image/png": "[encoded data removed]",
      "text/plain": [
       "<Figure size 576x432 with 1 Axes>"
      ]
     },
     "metadata": {
      "needs_background": "light"
     },
     "output_type": "display_data"
    }
   ],
   "source": [
    "import matplotlib.pyplot as plt\n",
    "x = [row[0] for row in train]\n",
    "y = [row[1] for row in train]\n",
    "fig = plt.figure(figsize=(8,6))\n",
    "plt.scatter(x,y)\n",
    "plt.plot(test,predicted,color = 'red',label = 'Best fit line')\n",
    "plt.xlabel(\"Predictor variable\")\n",
    "plt.ylabel(\"Criterion variable\")\n",
    "plt.legend()\n",
    "plt.show()"
   ]
  }
 ],
 "metadata": {
  "kernelspec": {
   "display_name": "Python 3",
   "language": "python",
   "name": "python3"
  },
  "language_info": {
   "codemirror_mode": {
    "name": "ipython",
    "version": 3
   },
   "file_extension": ".py",
   "mimetype": "text/x-python",
   "name": "python",
   "nbconvert_exporter": "python",
   "pygments_lexer": "ipython3",
   "version": "3.6.8"
  }
 },
 "nbformat": 4,
 "nbformat_minor": 2
}
